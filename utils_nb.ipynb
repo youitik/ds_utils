{
 "cells": [
  {
   "cell_type": "code",
   "execution_count": 11,
   "metadata": {},
   "outputs": [],
   "source": [
    "import pandas\n",
    "import numpy\n",
    "import yfinance as yf\n",
    "from hurst import compute_Hc"
   ]
  },
  {
   "cell_type": "code",
   "execution_count": null,
   "metadata": {},
   "outputs": [],
   "source": [
    "# Sobre pandas e numpy"
   ]
  },
  {
   "cell_type": "code",
   "execution_count": 3,
   "metadata": {},
   "outputs": [],
   "source": [
    "BTC_Ticker = yf.Ticker(\"BTC-USD\")"
   ]
  },
  {
   "cell_type": "code",
   "execution_count": 5,
   "metadata": {},
   "outputs": [],
   "source": [
    "df_btc = BTC_Ticker.history(period=\"1mo\")"
   ]
  },
  {
   "cell_type": "code",
   "execution_count": 8,
   "metadata": {},
   "outputs": [],
   "source": [
    "# Check dataset"
   ]
  },
  {
   "cell_type": "code",
   "execution_count": 9,
   "metadata": {},
   "outputs": [
    {
     "name": "stdout",
     "output_type": "stream",
     "text": [
      "<class 'pandas.core.frame.DataFrame'>\n",
      "DatetimeIndex: 30 entries, 2023-11-03 00:00:00+00:00 to 2023-12-03 00:00:00+00:00\n",
      "Data columns (total 7 columns):\n",
      " #   Column        Non-Null Count  Dtype  \n",
      "---  ------        --------------  -----  \n",
      " 0   Open          30 non-null     float64\n",
      " 1   High          30 non-null     float64\n",
      " 2   Low           30 non-null     float64\n",
      " 3   Close         30 non-null     float64\n",
      " 4   Volume        30 non-null     int64  \n",
      " 5   Dividends     30 non-null     float64\n",
      " 6   Stock Splits  30 non-null     float64\n",
      "dtypes: float64(6), int64(1)\n",
      "memory usage: 1.9 KB\n"
     ]
    },
    {
     "data": {
      "text/html": [
       "<div>\n",
       "<style scoped>\n",
       "    .dataframe tbody tr th:only-of-type {\n",
       "        vertical-align: middle;\n",
       "    }\n",
       "\n",
       "    .dataframe tbody tr th {\n",
       "        vertical-align: top;\n",
       "    }\n",
       "\n",
       "    .dataframe thead th {\n",
       "        text-align: right;\n",
       "    }\n",
       "</style>\n",
       "<table border=\"1\" class=\"dataframe\">\n",
       "  <thead>\n",
       "    <tr style=\"text-align: right;\">\n",
       "      <th></th>\n",
       "      <th>Open</th>\n",
       "      <th>High</th>\n",
       "      <th>Low</th>\n",
       "      <th>Close</th>\n",
       "      <th>Volume</th>\n",
       "      <th>Dividends</th>\n",
       "      <th>Stock Splits</th>\n",
       "    </tr>\n",
       "    <tr>\n",
       "      <th>Date</th>\n",
       "      <th></th>\n",
       "      <th></th>\n",
       "      <th></th>\n",
       "      <th></th>\n",
       "      <th></th>\n",
       "      <th></th>\n",
       "      <th></th>\n",
       "    </tr>\n",
       "  </thead>\n",
       "  <tbody>\n",
       "    <tr>\n",
       "      <th>2023-11-03 00:00:00+00:00</th>\n",
       "      <td>34942.472656</td>\n",
       "      <td>34942.472656</td>\n",
       "      <td>34133.441406</td>\n",
       "      <td>34732.324219</td>\n",
       "      <td>17158456701</td>\n",
       "      <td>0.0</td>\n",
       "      <td>0.0</td>\n",
       "    </tr>\n",
       "    <tr>\n",
       "      <th>2023-11-04 00:00:00+00:00</th>\n",
       "      <td>34736.324219</td>\n",
       "      <td>35256.031250</td>\n",
       "      <td>34616.691406</td>\n",
       "      <td>35082.195312</td>\n",
       "      <td>9561294264</td>\n",
       "      <td>0.0</td>\n",
       "      <td>0.0</td>\n",
       "    </tr>\n",
       "    <tr>\n",
       "      <th>2023-11-05 00:00:00+00:00</th>\n",
       "      <td>35090.011719</td>\n",
       "      <td>35340.339844</td>\n",
       "      <td>34594.242188</td>\n",
       "      <td>35049.355469</td>\n",
       "      <td>12412743996</td>\n",
       "      <td>0.0</td>\n",
       "      <td>0.0</td>\n",
       "    </tr>\n",
       "    <tr>\n",
       "      <th>2023-11-06 00:00:00+00:00</th>\n",
       "      <td>35044.789062</td>\n",
       "      <td>35286.027344</td>\n",
       "      <td>34765.363281</td>\n",
       "      <td>35037.371094</td>\n",
       "      <td>12693436420</td>\n",
       "      <td>0.0</td>\n",
       "      <td>0.0</td>\n",
       "    </tr>\n",
       "    <tr>\n",
       "      <th>2023-11-07 00:00:00+00:00</th>\n",
       "      <td>35047.792969</td>\n",
       "      <td>35892.417969</td>\n",
       "      <td>34545.816406</td>\n",
       "      <td>35443.562500</td>\n",
       "      <td>18834737789</td>\n",
       "      <td>0.0</td>\n",
       "      <td>0.0</td>\n",
       "    </tr>\n",
       "  </tbody>\n",
       "</table>\n",
       "</div>"
      ],
      "text/plain": [
       "                                   Open          High           Low  \\\n",
       "Date                                                                  \n",
       "2023-11-03 00:00:00+00:00  34942.472656  34942.472656  34133.441406   \n",
       "2023-11-04 00:00:00+00:00  34736.324219  35256.031250  34616.691406   \n",
       "2023-11-05 00:00:00+00:00  35090.011719  35340.339844  34594.242188   \n",
       "2023-11-06 00:00:00+00:00  35044.789062  35286.027344  34765.363281   \n",
       "2023-11-07 00:00:00+00:00  35047.792969  35892.417969  34545.816406   \n",
       "\n",
       "                                  Close       Volume  Dividends  Stock Splits  \n",
       "Date                                                                           \n",
       "2023-11-03 00:00:00+00:00  34732.324219  17158456701        0.0           0.0  \n",
       "2023-11-04 00:00:00+00:00  35082.195312   9561294264        0.0           0.0  \n",
       "2023-11-05 00:00:00+00:00  35049.355469  12412743996        0.0           0.0  \n",
       "2023-11-06 00:00:00+00:00  35037.371094  12693436420        0.0           0.0  \n",
       "2023-11-07 00:00:00+00:00  35443.562500  18834737789        0.0           0.0  "
      ]
     },
     "execution_count": 9,
     "metadata": {},
     "output_type": "execute_result"
    }
   ],
   "source": [
    "df_btc.info()\n",
    "df_btc.head()"
   ]
  },
  {
   "cell_type": "code",
   "execution_count": 10,
   "metadata": {},
   "outputs": [
    {
     "name": "stdout",
     "output_type": "stream",
     "text": [
      "Collecting hurst\n",
      "  Downloading hurst-0.0.5-py3-none-any.whl (5.9 kB)\n",
      "Requirement already satisfied: pandas>=0.18 in c:\\users\\youit\\onedrive\\001 - documentos\\github\\ds_utils\\.conda\\lib\\site-packages (from hurst) (2.1.3)\n",
      "Requirement already satisfied: numpy>=1.10 in c:\\users\\youit\\onedrive\\001 - documentos\\github\\ds_utils\\.conda\\lib\\site-packages (from hurst) (1.26.2)\n",
      "Requirement already satisfied: python-dateutil>=2.8.2 in c:\\users\\youit\\onedrive\\001 - documentos\\github\\ds_utils\\.conda\\lib\\site-packages (from pandas>=0.18->hurst) (2.8.2)\n",
      "Requirement already satisfied: pytz>=2020.1 in c:\\users\\youit\\onedrive\\001 - documentos\\github\\ds_utils\\.conda\\lib\\site-packages (from pandas>=0.18->hurst) (2023.3.post1)\n",
      "Requirement already satisfied: tzdata>=2022.1 in c:\\users\\youit\\onedrive\\001 - documentos\\github\\ds_utils\\.conda\\lib\\site-packages (from pandas>=0.18->hurst) (2023.3)\n",
      "Requirement already satisfied: six>=1.5 in c:\\users\\youit\\onedrive\\001 - documentos\\github\\ds_utils\\.conda\\lib\\site-packages (from python-dateutil>=2.8.2->pandas>=0.18->hurst) (1.16.0)\n",
      "Installing collected packages: hurst\n",
      "Successfully installed hurst-0.0.5\n"
     ]
    }
   ],
   "source": [
    "!pip install hurst"
   ]
  },
  {
   "cell_type": "code",
   "execution_count": null,
   "metadata": {},
   "outputs": [],
   "source": [
    "compute_Hc"
   ]
  },
  {
   "cell_type": "code",
   "execution_count": null,
   "metadata": {},
   "outputs": [],
   "source": []
  }
 ],
 "metadata": {
  "kernelspec": {
   "display_name": "Python 3",
   "language": "python",
   "name": "python3"
  },
  "language_info": {
   "codemirror_mode": {
    "name": "ipython",
    "version": 3
   },
   "file_extension": ".py",
   "mimetype": "text/x-python",
   "name": "python",
   "nbconvert_exporter": "python",
   "pygments_lexer": "ipython3",
   "version": "3.10.13"
  }
 },
 "nbformat": 4,
 "nbformat_minor": 2
}
